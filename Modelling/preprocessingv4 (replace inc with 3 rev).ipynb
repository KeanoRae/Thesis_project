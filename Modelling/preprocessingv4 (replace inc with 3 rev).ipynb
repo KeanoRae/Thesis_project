{
 "cells": [
  {
   "cell_type": "markdown",
   "id": "a87e5d0f",
   "metadata": {},
   "source": [
    "# Exploratory Data Analysis"
   ]
  },
  {
   "cell_type": "code",
   "execution_count": 1,
   "id": "8abee966",
   "metadata": {},
   "outputs": [],
   "source": [
    "import pandas as pd \n",
    "import numpy as np\n",
    "import matplotlib.pyplot as plt\n",
    "import seaborn as sns\n",
    "from pandas import DataFrame\n",
    "\n",
    "df = pd.read_csv('rawdata.csv')"
   ]
  },
  {
   "cell_type": "code",
   "execution_count": 2,
   "id": "7b6eb939",
   "metadata": {},
   "outputs": [
    {
     "data": {
      "text/html": [
       "<div>\n",
       "<style scoped>\n",
       "    .dataframe tbody tr th:only-of-type {\n",
       "        vertical-align: middle;\n",
       "    }\n",
       "\n",
       "    .dataframe tbody tr th {\n",
       "        vertical-align: top;\n",
       "    }\n",
       "\n",
       "    .dataframe thead th {\n",
       "        text-align: right;\n",
       "    }\n",
       "</style>\n",
       "<table border=\"1\" class=\"dataframe\">\n",
       "  <thead>\n",
       "    <tr style=\"text-align: right;\">\n",
       "      <th></th>\n",
       "      <th>Year Started in the Program</th>\n",
       "      <th>Student ID/Number</th>\n",
       "      <th>Name</th>\n",
       "      <th>First Name</th>\n",
       "      <th>Last Name</th>\n",
       "      <th>Gender</th>\n",
       "      <th>Birthday</th>\n",
       "      <th>Age</th>\n",
       "      <th>What track/strand did you take in SHS?</th>\n",
       "      <th>Financial Status</th>\n",
       "      <th>...</th>\n",
       "      <th>CS111/IT112</th>\n",
       "      <th>CS111/IT112 Lecture</th>\n",
       "      <th>English Prof</th>\n",
       "      <th>Reading Compre</th>\n",
       "      <th>Science Process</th>\n",
       "      <th>Quantitative</th>\n",
       "      <th>Abstract</th>\n",
       "      <th>CET OAPR</th>\n",
       "      <th>SHS/HS GPA</th>\n",
       "      <th>Enrolled in 2nd Year</th>\n",
       "    </tr>\n",
       "  </thead>\n",
       "  <tbody>\n",
       "    <tr>\n",
       "      <th>0</th>\n",
       "      <td>2018</td>\n",
       "      <td>2020-03762</td>\n",
       "      <td>Villaflores, Leo Patrick</td>\n",
       "      <td>Leo Patrick</td>\n",
       "      <td>Villaflores</td>\n",
       "      <td>Male</td>\n",
       "      <td>6/23/2000</td>\n",
       "      <td>22</td>\n",
       "      <td>TVL-ICT</td>\n",
       "      <td>More than P100,000</td>\n",
       "      <td>...</td>\n",
       "      <td>NaN</td>\n",
       "      <td>NaN</td>\n",
       "      <td>41.05</td>\n",
       "      <td>30.03</td>\n",
       "      <td>29.96</td>\n",
       "      <td>44.18</td>\n",
       "      <td>79.78</td>\n",
       "      <td>42.52</td>\n",
       "      <td>NaN</td>\n",
       "      <td>No</td>\n",
       "    </tr>\n",
       "    <tr>\n",
       "      <th>1</th>\n",
       "      <td>2018</td>\n",
       "      <td>201803133</td>\n",
       "      <td>Sebastian, Deil Robert</td>\n",
       "      <td>Deil Robert</td>\n",
       "      <td>Sebastian</td>\n",
       "      <td>Male</td>\n",
       "      <td>10/18/1998</td>\n",
       "      <td>24</td>\n",
       "      <td>TVL-ICT</td>\n",
       "      <td>Below P10,000</td>\n",
       "      <td>...</td>\n",
       "      <td>2.5</td>\n",
       "      <td>4:00pm-5:30pm (TF)</td>\n",
       "      <td>61.05</td>\n",
       "      <td>48.40</td>\n",
       "      <td>85.06</td>\n",
       "      <td>89.31</td>\n",
       "      <td>53.29</td>\n",
       "      <td>72.43</td>\n",
       "      <td>NaN</td>\n",
       "      <td>Yes</td>\n",
       "    </tr>\n",
       "    <tr>\n",
       "      <th>2</th>\n",
       "      <td>2018</td>\n",
       "      <td>xt202001173</td>\n",
       "      <td>Augusto, Eljen Mae</td>\n",
       "      <td>Eljen Mae</td>\n",
       "      <td>Augusto</td>\n",
       "      <td>Female</td>\n",
       "      <td>7/25/2001</td>\n",
       "      <td>21</td>\n",
       "      <td>STEM</td>\n",
       "      <td>Below P10,000</td>\n",
       "      <td>...</td>\n",
       "      <td>2</td>\n",
       "      <td>7:00am-8:30am (TF)</td>\n",
       "      <td>49.95</td>\n",
       "      <td>71.99</td>\n",
       "      <td>80.93</td>\n",
       "      <td>34.54</td>\n",
       "      <td>72.90</td>\n",
       "      <td>64.72</td>\n",
       "      <td>NaN</td>\n",
       "      <td>Yes</td>\n",
       "    </tr>\n",
       "    <tr>\n",
       "      <th>3</th>\n",
       "      <td>2018</td>\n",
       "      <td>gt201900649</td>\n",
       "      <td>Madroñal, John Paul</td>\n",
       "      <td>John Paul</td>\n",
       "      <td>Madroñal</td>\n",
       "      <td>Male</td>\n",
       "      <td>07/01/2000</td>\n",
       "      <td>22</td>\n",
       "      <td>ABM/BAM</td>\n",
       "      <td>Prefer not to say</td>\n",
       "      <td>...</td>\n",
       "      <td>1.75</td>\n",
       "      <td>1:00pm-2:30pm (MTH)</td>\n",
       "      <td>89.71</td>\n",
       "      <td>77.12</td>\n",
       "      <td>36.55</td>\n",
       "      <td>34.54</td>\n",
       "      <td>72.90</td>\n",
       "      <td>78.81</td>\n",
       "      <td>84.4</td>\n",
       "      <td>Yes</td>\n",
       "    </tr>\n",
       "    <tr>\n",
       "      <th>4</th>\n",
       "      <td>2018</td>\n",
       "      <td>2016-00099</td>\n",
       "      <td>Frones, Nathalie Joyce</td>\n",
       "      <td>Nathalie Joyce</td>\n",
       "      <td>Frones</td>\n",
       "      <td>Female</td>\n",
       "      <td>11/19/1999</td>\n",
       "      <td>23</td>\n",
       "      <td>TVL-ICT</td>\n",
       "      <td>Below P10,000</td>\n",
       "      <td>...</td>\n",
       "      <td>1.75</td>\n",
       "      <td>7:00am-8:30am (MTH)</td>\n",
       "      <td>95.51</td>\n",
       "      <td>71.99</td>\n",
       "      <td>93.41</td>\n",
       "      <td>44.80</td>\n",
       "      <td>87.72</td>\n",
       "      <td>92.03</td>\n",
       "      <td>91.06</td>\n",
       "      <td>Yes</td>\n",
       "    </tr>\n",
       "  </tbody>\n",
       "</table>\n",
       "<p>5 rows × 31 columns</p>\n",
       "</div>"
      ],
      "text/plain": [
       "   Year Started in the Program Student ID/Number                      Name  \\\n",
       "0                         2018        2020-03762  Villaflores, Leo Patrick   \n",
       "1                         2018         201803133    Sebastian, Deil Robert   \n",
       "2                         2018       xt202001173        Augusto, Eljen Mae   \n",
       "3                         2018       gt201900649       Madroñal, John Paul   \n",
       "4                         2018        2016-00099    Frones, Nathalie Joyce   \n",
       "\n",
       "       First Name    Last Name  Gender    Birthday Age  \\\n",
       "0     Leo Patrick  Villaflores    Male   6/23/2000  22   \n",
       "1     Deil Robert    Sebastian    Male  10/18/1998  24   \n",
       "2       Eljen Mae      Augusto  Female   7/25/2001  21   \n",
       "3       John Paul     Madroñal    Male  07/01/2000  22   \n",
       "4  Nathalie Joyce       Frones  Female  11/19/1999  23   \n",
       "\n",
       "  What track/strand did you take in SHS?    Financial Status  ... CS111/IT112  \\\n",
       "0                                TVL-ICT  More than P100,000  ...         NaN   \n",
       "1                                TVL-ICT       Below P10,000  ...         2.5   \n",
       "2                                   STEM       Below P10,000  ...           2   \n",
       "3                                ABM/BAM   Prefer not to say  ...        1.75   \n",
       "4                                TVL-ICT       Below P10,000  ...        1.75   \n",
       "\n",
       "   CS111/IT112 Lecture English Prof Reading Compre Science Process  \\\n",
       "0                  NaN        41.05          30.03           29.96   \n",
       "1   4:00pm-5:30pm (TF)        61.05          48.40           85.06   \n",
       "2   7:00am-8:30am (TF)        49.95          71.99           80.93   \n",
       "3  1:00pm-2:30pm (MTH)        89.71          77.12           36.55   \n",
       "4  7:00am-8:30am (MTH)        95.51          71.99           93.41   \n",
       "\n",
       "  Quantitative Abstract CET OAPR SHS/HS GPA Enrolled in 2nd Year  \n",
       "0        44.18    79.78    42.52        NaN                   No  \n",
       "1        89.31    53.29    72.43        NaN                  Yes  \n",
       "2        34.54    72.90    64.72        NaN                  Yes  \n",
       "3        34.54    72.90    78.81       84.4                  Yes  \n",
       "4        44.80    87.72    92.03      91.06                  Yes  \n",
       "\n",
       "[5 rows x 31 columns]"
      ]
     },
     "execution_count": 2,
     "metadata": {},
     "output_type": "execute_result"
    }
   ],
   "source": [
    "df.head()"
   ]
  },
  {
   "cell_type": "code",
   "execution_count": 3,
   "id": "63ee0772",
   "metadata": {},
   "outputs": [
    {
     "data": {
      "text/html": [
       "<div>\n",
       "<style scoped>\n",
       "    .dataframe tbody tr th:only-of-type {\n",
       "        vertical-align: middle;\n",
       "    }\n",
       "\n",
       "    .dataframe tbody tr th {\n",
       "        vertical-align: top;\n",
       "    }\n",
       "\n",
       "    .dataframe thead th {\n",
       "        text-align: right;\n",
       "    }\n",
       "</style>\n",
       "<table border=\"1\" class=\"dataframe\">\n",
       "  <thead>\n",
       "    <tr style=\"text-align: right;\">\n",
       "      <th></th>\n",
       "      <th>Year Started in the Program</th>\n",
       "      <th>English Prof</th>\n",
       "      <th>Reading Compre</th>\n",
       "      <th>Science Process</th>\n",
       "      <th>Quantitative</th>\n",
       "      <th>Abstract</th>\n",
       "      <th>CET OAPR</th>\n",
       "    </tr>\n",
       "  </thead>\n",
       "  <tbody>\n",
       "    <tr>\n",
       "      <th>count</th>\n",
       "      <td>454.000000</td>\n",
       "      <td>446.000000</td>\n",
       "      <td>446.000000</td>\n",
       "      <td>446.000000</td>\n",
       "      <td>446.000000</td>\n",
       "      <td>446.000000</td>\n",
       "      <td>446.000000</td>\n",
       "    </tr>\n",
       "    <tr>\n",
       "      <th>mean</th>\n",
       "      <td>2019.887665</td>\n",
       "      <td>75.138561</td>\n",
       "      <td>73.965090</td>\n",
       "      <td>69.302578</td>\n",
       "      <td>63.303632</td>\n",
       "      <td>69.730314</td>\n",
       "      <td>77.517265</td>\n",
       "    </tr>\n",
       "    <tr>\n",
       "      <th>std</th>\n",
       "      <td>1.002503</td>\n",
       "      <td>15.200165</td>\n",
       "      <td>18.432715</td>\n",
       "      <td>20.065034</td>\n",
       "      <td>23.223526</td>\n",
       "      <td>20.831707</td>\n",
       "      <td>11.665663</td>\n",
       "    </tr>\n",
       "    <tr>\n",
       "      <th>min</th>\n",
       "      <td>2018.000000</td>\n",
       "      <td>7.830000</td>\n",
       "      <td>11.850000</td>\n",
       "      <td>3.340000</td>\n",
       "      <td>0.080000</td>\n",
       "      <td>4.240000</td>\n",
       "      <td>11.500000</td>\n",
       "    </tr>\n",
       "    <tr>\n",
       "      <th>25%</th>\n",
       "      <td>2019.000000</td>\n",
       "      <td>66.010000</td>\n",
       "      <td>66.850000</td>\n",
       "      <td>59.250000</td>\n",
       "      <td>44.180000</td>\n",
       "      <td>53.290000</td>\n",
       "      <td>70.300000</td>\n",
       "    </tr>\n",
       "    <tr>\n",
       "      <th>50%</th>\n",
       "      <td>2020.000000</td>\n",
       "      <td>76.830000</td>\n",
       "      <td>77.120000</td>\n",
       "      <td>72.660000</td>\n",
       "      <td>70.610000</td>\n",
       "      <td>72.900000</td>\n",
       "      <td>76.980000</td>\n",
       "    </tr>\n",
       "    <tr>\n",
       "      <th>75%</th>\n",
       "      <td>2021.000000</td>\n",
       "      <td>86.350000</td>\n",
       "      <td>90.940000</td>\n",
       "      <td>85.060000</td>\n",
       "      <td>79.960000</td>\n",
       "      <td>83.750000</td>\n",
       "      <td>86.260000</td>\n",
       "    </tr>\n",
       "    <tr>\n",
       "      <th>max</th>\n",
       "      <td>2021.000000</td>\n",
       "      <td>99.850000</td>\n",
       "      <td>99.770000</td>\n",
       "      <td>99.870000</td>\n",
       "      <td>99.340000</td>\n",
       "      <td>99.280000</td>\n",
       "      <td>99.860000</td>\n",
       "    </tr>\n",
       "  </tbody>\n",
       "</table>\n",
       "</div>"
      ],
      "text/plain": [
       "       Year Started in the Program  English Prof  Reading Compre  \\\n",
       "count                   454.000000    446.000000      446.000000   \n",
       "mean                   2019.887665     75.138561       73.965090   \n",
       "std                       1.002503     15.200165       18.432715   \n",
       "min                    2018.000000      7.830000       11.850000   \n",
       "25%                    2019.000000     66.010000       66.850000   \n",
       "50%                    2020.000000     76.830000       77.120000   \n",
       "75%                    2021.000000     86.350000       90.940000   \n",
       "max                    2021.000000     99.850000       99.770000   \n",
       "\n",
       "       Science Process  Quantitative    Abstract    CET OAPR  \n",
       "count       446.000000    446.000000  446.000000  446.000000  \n",
       "mean         69.302578     63.303632   69.730314   77.517265  \n",
       "std          20.065034     23.223526   20.831707   11.665663  \n",
       "min           3.340000      0.080000    4.240000   11.500000  \n",
       "25%          59.250000     44.180000   53.290000   70.300000  \n",
       "50%          72.660000     70.610000   72.900000   76.980000  \n",
       "75%          85.060000     79.960000   83.750000   86.260000  \n",
       "max          99.870000     99.340000   99.280000   99.860000  "
      ]
     },
     "execution_count": 3,
     "metadata": {},
     "output_type": "execute_result"
    }
   ],
   "source": [
    "df.describe()"
   ]
  },
  {
   "cell_type": "code",
   "execution_count": 4,
   "id": "ee3b55c0",
   "metadata": {},
   "outputs": [
    {
     "data": {
      "text/plain": [
       "Index(['Year Started in the Program', 'Student ID/Number', 'Name',\n",
       "       'First Name', 'Last Name', 'Gender', 'Birthday', 'Age',\n",
       "       'What track/strand did you take in SHS?', 'Financial Status',\n",
       "       'Did you have a computer or laptop before admission to CS/IT?',\n",
       "       'Type of Internet Connection', 'CC100', 'CC100 Lecture', 'CC100 Lab',\n",
       "       'CC101', 'CC101 Lecture', 'CC101 Lab', 'CC102', 'CC102 Lecture',\n",
       "       'CC102 Lab', 'CS111/IT112', 'CS111/IT112 Lecture', 'English Prof',\n",
       "       'Reading Compre', 'Science Process', 'Quantitative', 'Abstract',\n",
       "       'CET OAPR', 'SHS/HS GPA', 'Enrolled in 2nd Year'],\n",
       "      dtype='object')"
      ]
     },
     "execution_count": 4,
     "metadata": {},
     "output_type": "execute_result"
    }
   ],
   "source": [
    "df.columns"
   ]
  },
  {
   "cell_type": "code",
   "execution_count": 5,
   "id": "9ddf5f4c",
   "metadata": {
    "scrolled": false
   },
   "outputs": [
    {
     "data": {
      "text/plain": [
       "Year Started in the Program                                       int64\n",
       "Student ID/Number                                                object\n",
       "Name                                                             object\n",
       "First Name                                                       object\n",
       "Last Name                                                        object\n",
       "Gender                                                           object\n",
       "Birthday                                                         object\n",
       "Age                                                              object\n",
       "What track/strand did you take in SHS?                           object\n",
       "Financial Status                                                 object\n",
       "Did you have a computer or laptop before admission to CS/IT?     object\n",
       "Type of Internet Connection                                      object\n",
       "CC100                                                            object\n",
       "CC100 Lecture                                                    object\n",
       "CC100 Lab                                                        object\n",
       "CC101                                                            object\n",
       "CC101 Lecture                                                    object\n",
       "CC101 Lab                                                        object\n",
       "CC102                                                            object\n",
       "CC102 Lecture                                                    object\n",
       "CC102 Lab                                                        object\n",
       "CS111/IT112                                                      object\n",
       "CS111/IT112 Lecture                                              object\n",
       "English Prof                                                    float64\n",
       "Reading Compre                                                  float64\n",
       "Science Process                                                 float64\n",
       "Quantitative                                                    float64\n",
       "Abstract                                                        float64\n",
       "CET OAPR                                                        float64\n",
       "SHS/HS GPA                                                       object\n",
       "Enrolled in 2nd Year                                             object\n",
       "dtype: object"
      ]
     },
     "execution_count": 5,
     "metadata": {},
     "output_type": "execute_result"
    }
   ],
   "source": [
    "df.dtypes"
   ]
  },
  {
   "cell_type": "code",
   "execution_count": 6,
   "id": "f63b0338",
   "metadata": {},
   "outputs": [
    {
     "data": {
      "text/plain": [
       "(454, 31)"
      ]
     },
     "execution_count": 6,
     "metadata": {},
     "output_type": "execute_result"
    }
   ],
   "source": [
    "df.shape"
   ]
  },
  {
   "cell_type": "code",
   "execution_count": 7,
   "id": "5def2e4b",
   "metadata": {},
   "outputs": [
    {
     "data": {
      "text/plain": [
       "Year Started in the Program                                      0\n",
       "Student ID/Number                                                1\n",
       "Name                                                             0\n",
       "First Name                                                       0\n",
       "Last Name                                                        0\n",
       "Gender                                                           0\n",
       "Birthday                                                         0\n",
       "Age                                                              0\n",
       "What track/strand did you take in SHS?                           0\n",
       "Financial Status                                                 1\n",
       "Did you have a computer or laptop before admission to CS/IT?     0\n",
       "Type of Internet Connection                                      0\n",
       "CC100                                                           26\n",
       "CC100 Lecture                                                   20\n",
       "CC100 Lab                                                       20\n",
       "CC101                                                            9\n",
       "CC101 Lecture                                                    8\n",
       "CC101 Lab                                                        9\n",
       "CC102                                                            6\n",
       "CC102 Lecture                                                   10\n",
       "CC102 Lab                                                       10\n",
       "CS111/IT112                                                     12\n",
       "CS111/IT112 Lecture                                             20\n",
       "English Prof                                                     8\n",
       "Reading Compre                                                   8\n",
       "Science Process                                                  8\n",
       "Quantitative                                                     8\n",
       "Abstract                                                         8\n",
       "CET OAPR                                                         8\n",
       "SHS/HS GPA                                                      69\n",
       "Enrolled in 2nd Year                                             0\n",
       "dtype: int64"
      ]
     },
     "execution_count": 7,
     "metadata": {},
     "output_type": "execute_result"
    }
   ],
   "source": [
    "df.isna().sum()"
   ]
  },
  {
   "cell_type": "code",
   "execution_count": 8,
   "id": "3af74337",
   "metadata": {},
   "outputs": [],
   "source": [
    "df.drop(columns = ['Name','First Name', 'Last Name', 'Student ID/Number', 'Birthday', 'CC100 Lecture', 'CC100 Lab', \n",
    "                   'CC101 Lecture', 'CC101 Lab', 'CC102 Lecture','CC102 Lab', 'CS111/IT112 Lecture',\n",
    "                   'Year Started in the Program'], inplace=True)"
   ]
  },
  {
   "cell_type": "code",
   "execution_count": 9,
   "id": "fa3a6fd9",
   "metadata": {
    "scrolled": true
   },
   "outputs": [
    {
     "data": {
      "text/plain": [
       "Index(['Gender', 'Age', 'What track/strand did you take in SHS?',\n",
       "       'Financial Status',\n",
       "       'Did you have a computer or laptop before admission to CS/IT?',\n",
       "       'Type of Internet Connection', 'CC100', 'CC101', 'CC102', 'CS111/IT112',\n",
       "       'English Prof', 'Reading Compre', 'Science Process', 'Quantitative',\n",
       "       'Abstract', 'CET OAPR', 'SHS/HS GPA', 'Enrolled in 2nd Year'],\n",
       "      dtype='object')"
      ]
     },
     "execution_count": 9,
     "metadata": {},
     "output_type": "execute_result"
    }
   ],
   "source": [
    "df.columns"
   ]
  },
  {
   "cell_type": "code",
   "execution_count": 10,
   "id": "e991dd15",
   "metadata": {},
   "outputs": [],
   "source": [
    "df.rename(columns={'What track/strand did you take in SHS?':'SHS Strand', \n",
    "                   'Did you have a computer or laptop before admission to CS/IT?':'Has a Laptop'}, inplace=True)"
   ]
  },
  {
   "cell_type": "code",
   "execution_count": 11,
   "id": "8408d42f",
   "metadata": {},
   "outputs": [
    {
     "data": {
      "text/plain": [
       "array(['22', '24', '21', '23', '25', '2', '20', '0', '29', '28', '19',\n",
       "       '#REF!', '18', '36'], dtype=object)"
      ]
     },
     "execution_count": 11,
     "metadata": {},
     "output_type": "execute_result"
    }
   ],
   "source": [
    "df['Age'].unique()"
   ]
  },
  {
   "cell_type": "code",
   "execution_count": 12,
   "id": "a6f89be5",
   "metadata": {},
   "outputs": [
    {
     "data": {
      "text/plain": [
       "array(['Male', 'Female', 'Androgyne', 'Prefer not to say'], dtype=object)"
      ]
     },
     "execution_count": 12,
     "metadata": {},
     "output_type": "execute_result"
    }
   ],
   "source": [
    "df['Gender'].unique()"
   ]
  },
  {
   "cell_type": "code",
   "execution_count": 13,
   "id": "b880da65",
   "metadata": {},
   "outputs": [
    {
     "data": {
      "text/plain": [
       "array(['TVL-ICT', 'STEM', 'ABM/BAM', 'Sports Track', 'GAS', 'HUMSS',\n",
       "       'TVL-HE'], dtype=object)"
      ]
     },
     "execution_count": 13,
     "metadata": {},
     "output_type": "execute_result"
    }
   ],
   "source": [
    "df['SHS Strand'].unique()"
   ]
  },
  {
   "cell_type": "code",
   "execution_count": 14,
   "id": "d7bbb20b",
   "metadata": {},
   "outputs": [
    {
     "data": {
      "text/plain": [
       "array(['More than P100,000', 'Below P10,000', 'Prefer not to say',\n",
       "       'P10,000 to P20,000', 'P20,000 to P50,000', 'P50,000 to P100,000',\n",
       "       nan], dtype=object)"
      ]
     },
     "execution_count": 14,
     "metadata": {},
     "output_type": "execute_result"
    }
   ],
   "source": [
    "df['Financial Status'].unique()"
   ]
  },
  {
   "cell_type": "code",
   "execution_count": 15,
   "id": "784a9471",
   "metadata": {},
   "outputs": [
    {
     "data": {
      "text/plain": [
       "array(['Yes', 'No', 'Planning to purchase'], dtype=object)"
      ]
     },
     "execution_count": 15,
     "metadata": {},
     "output_type": "execute_result"
    }
   ],
   "source": [
    "df['Has a Laptop'].unique()"
   ]
  },
  {
   "cell_type": "code",
   "execution_count": 16,
   "id": "f2a5b15b",
   "metadata": {},
   "outputs": [
    {
     "data": {
      "text/plain": [
       "array(['Post-paid plan(Unlimited Data Subscription to PLDT, GLOBE, SMART, Sky, etc.)',\n",
       "       'Pre-paid plan(Limited Data Subscription)',\n",
       "       'No internet subscription, including no access to internet connection at all'],\n",
       "      dtype=object)"
      ]
     },
     "execution_count": 16,
     "metadata": {},
     "output_type": "execute_result"
    }
   ],
   "source": [
    "df['Type of Internet Connection'].unique()"
   ]
  },
  {
   "cell_type": "code",
   "execution_count": 17,
   "id": "56c5ad6b",
   "metadata": {},
   "outputs": [
    {
     "data": {
      "text/plain": [
       "array([nan, '2.5', '1', '1.75', '1.25', '2', '1.5', '2.25', '2.75', '3',\n",
       "       'INC'], dtype=object)"
      ]
     },
     "execution_count": 17,
     "metadata": {},
     "output_type": "execute_result"
    }
   ],
   "source": [
    "df['CC100'].unique()"
   ]
  },
  {
   "cell_type": "code",
   "execution_count": 18,
   "id": "ed0ea102",
   "metadata": {},
   "outputs": [
    {
     "data": {
      "text/plain": [
       "array(['2', '3', '1.75', '1.25', '2.5', '1.5', '2.25', '2.75', nan, '1',\n",
       "       '5', 'INC'], dtype=object)"
      ]
     },
     "execution_count": 18,
     "metadata": {},
     "output_type": "execute_result"
    }
   ],
   "source": [
    "df['CC101'].unique()"
   ]
  },
  {
   "cell_type": "code",
   "execution_count": 19,
   "id": "454d1b44",
   "metadata": {},
   "outputs": [
    {
     "data": {
      "text/plain": [
       "array(['2', '1.75', '3', '2.75', '2.25', 'INC', '1.25', '1.5', nan, '2.5',\n",
       "       '1', 'UW'], dtype=object)"
      ]
     },
     "execution_count": 19,
     "metadata": {},
     "output_type": "execute_result"
    }
   ],
   "source": [
    "df['CC102'].unique()"
   ]
  },
  {
   "cell_type": "code",
   "execution_count": 20,
   "id": "0d7ec883",
   "metadata": {},
   "outputs": [
    {
     "data": {
      "text/plain": [
       "array([nan, '2.5', '2', '1.75', '2.25', '1.25', '1.5', '3', '2.75', 'INC',\n",
       "       '5', '1', 'UW'], dtype=object)"
      ]
     },
     "execution_count": 20,
     "metadata": {},
     "output_type": "execute_result"
    }
   ],
   "source": [
    "df['CS111/IT112'].unique()"
   ]
  },
  {
   "cell_type": "code",
   "execution_count": 21,
   "id": "f6135658",
   "metadata": {},
   "outputs": [
    {
     "data": {
      "text/plain": [
       "array([nan, '84.4', '91.06', '90.75', 'Shiftee', '91.22', '94', '92',\n",
       "       'Transferee', '93', '87', '95.5', '90.59', '87.24', '88.94',\n",
       "       '82.69', '86.58', '87.83', '90', '91.5', '88.5', '92.5', '89.5',\n",
       "       '90.5', '91.93', '91', '87.2', '93.5', '82.1705', '90.44', '84.56',\n",
       "       '94.5', '88.35', '93.25', '87.5', '89', '85.5', '82', '92.785',\n",
       "       '85.515', '86', '91.165', '86.5', '96.19', '95', '88.8', '83.025',\n",
       "       '88.75', '91.58', '88', '90.1', '83.655', '92.25', '90.97',\n",
       "       '86.35', '80', '86.373', '84.5', '89.465', '83.475', '87.855',\n",
       "       '79.935', '90.88', '91.4', '87.889', '95.21', '82.665', '87.445',\n",
       "       '81', '87.945', '84', '87.79', '83', '87.905', '82.5', '85.785',\n",
       "       '85.18', '87.155', '94.16', '89.76', '87.25', '83.78', '89.26',\n",
       "       '87.65', '90.565', '87.44', '89.665', '91.1', '80.63', '92.28',\n",
       "       '85', '81.5', '89.23', '83.72', '94.6', '86.89', '89.6', '92.7',\n",
       "       '84.34', '94.06', '82.42', '89.21', '93.14', '83.5', '92.69', '77',\n",
       "       '89.33', '90.56', '87.97', '92.36', '92.55', '87.18', '93.15',\n",
       "       '87.06', '90.25', '83.98', '90.66', '86.87', '85.07', '91.8', '97',\n",
       "       '86.74', '86.13', '93.53', '85.38', '85.12', '90.82'], dtype=object)"
      ]
     },
     "execution_count": 21,
     "metadata": {},
     "output_type": "execute_result"
    }
   ],
   "source": [
    "df['SHS/HS GPA'].unique()"
   ]
  },
  {
   "cell_type": "code",
   "execution_count": 22,
   "id": "f2a2d66f",
   "metadata": {},
   "outputs": [
    {
     "data": {
      "text/plain": [
       "array(['No', 'Yes'], dtype=object)"
      ]
     },
     "execution_count": 22,
     "metadata": {},
     "output_type": "execute_result"
    }
   ],
   "source": [
    "df['Enrolled in 2nd Year'].unique()"
   ]
  },
  {
   "cell_type": "code",
   "execution_count": 23,
   "id": "0f920d52",
   "metadata": {},
   "outputs": [
    {
     "data": {
      "text/plain": [
       "(6, 18)"
      ]
     },
     "execution_count": 23,
     "metadata": {},
     "output_type": "execute_result"
    }
   ],
   "source": [
    "df[df['SHS/HS GPA'] == 'Shiftee'].shape"
   ]
  },
  {
   "cell_type": "code",
   "execution_count": 24,
   "id": "a9b4e66e",
   "metadata": {},
   "outputs": [
    {
     "data": {
      "text/plain": [
       "(18, 18)"
      ]
     },
     "execution_count": 24,
     "metadata": {},
     "output_type": "execute_result"
    }
   ],
   "source": [
    "df[df['SHS/HS GPA'] == 'Transferee'].shape"
   ]
  },
  {
   "cell_type": "code",
   "execution_count": 25,
   "id": "2f97b408",
   "metadata": {},
   "outputs": [],
   "source": [
    "df.drop(df[df['SHS/HS GPA'].isin(['Shiftee','Transferee'])].index,inplace=True)"
   ]
  },
  {
   "cell_type": "code",
   "execution_count": 26,
   "id": "85e8d856",
   "metadata": {},
   "outputs": [
    {
     "data": {
      "text/plain": [
       "(1, 18)"
      ]
     },
     "execution_count": 26,
     "metadata": {},
     "output_type": "execute_result"
    }
   ],
   "source": [
    "df[df['Age'] == '#REF!'].shape"
   ]
  },
  {
   "cell_type": "code",
   "execution_count": 27,
   "id": "1706d823",
   "metadata": {},
   "outputs": [
    {
     "data": {
      "text/plain": [
       "(430, 18)"
      ]
     },
     "execution_count": 27,
     "metadata": {},
     "output_type": "execute_result"
    }
   ],
   "source": [
    "df.shape"
   ]
  },
  {
   "cell_type": "code",
   "execution_count": 28,
   "id": "3280781d",
   "metadata": {},
   "outputs": [],
   "source": [
    "df.drop(df[df['Age'].isin(['#REF!'])].index,inplace=True)\n",
    "df.drop(df[df['Gender'].isin(['Androgyne'])].index,inplace=True)"
   ]
  },
  {
   "cell_type": "code",
   "execution_count": 29,
   "id": "f5b190bb",
   "metadata": {},
   "outputs": [
    {
     "data": {
      "text/plain": [
       "(428, 18)"
      ]
     },
     "execution_count": 29,
     "metadata": {},
     "output_type": "execute_result"
    }
   ],
   "source": [
    "df.shape"
   ]
  },
  {
   "cell_type": "code",
   "execution_count": 30,
   "id": "a5367025",
   "metadata": {},
   "outputs": [
    {
     "data": {
      "text/plain": [
       "array([nan, '84.4', '91.06', '90.75', '91.22', '94', '92', '93', '87',\n",
       "       '95.5', '90.59', '87.24', '88.94', '82.69', '86.58', '87.83', '90',\n",
       "       '91.5', '88.5', '92.5', '89.5', '90.5', '91.93', '91', '87.2',\n",
       "       '93.5', '82.1705', '90.44', '84.56', '94.5', '88.35', '93.25',\n",
       "       '87.5', '89', '85.5', '82', '92.785', '85.515', '86', '91.165',\n",
       "       '86.5', '96.19', '95', '88.8', '83.025', '88.75', '91.58', '88',\n",
       "       '90.1', '83.655', '92.25', '90.97', '86.35', '80', '86.373',\n",
       "       '84.5', '89.465', '83.475', '87.855', '79.935', '90.88', '91.4',\n",
       "       '87.889', '95.21', '82.665', '87.445', '81', '87.945', '84',\n",
       "       '87.79', '83', '87.905', '82.5', '85.785', '85.18', '87.155',\n",
       "       '94.16', '89.76', '87.25', '83.78', '89.26', '87.65', '90.565',\n",
       "       '87.44', '89.665', '91.1', '80.63', '92.28', '85', '81.5', '89.23',\n",
       "       '83.72', '94.6', '86.89', '89.6', '92.7', '84.34', '94.06',\n",
       "       '82.42', '89.21', '93.14', '83.5', '92.69', '77', '89.33', '90.56',\n",
       "       '87.97', '92.36', '92.55', '87.18', '93.15', '87.06', '90.25',\n",
       "       '83.98', '90.66', '86.87', '85.07', '91.8', '97', '86.74', '86.13',\n",
       "       '93.53', '85.38', '85.12', '90.82'], dtype=object)"
      ]
     },
     "execution_count": 30,
     "metadata": {},
     "output_type": "execute_result"
    }
   ],
   "source": [
    "df['SHS/HS GPA'].unique()"
   ]
  },
  {
   "cell_type": "code",
   "execution_count": 31,
   "id": "cd21be04",
   "metadata": {},
   "outputs": [
    {
     "data": {
      "text/plain": [
       "Gender                          object\n",
       "Age                             object\n",
       "SHS Strand                      object\n",
       "Financial Status                object\n",
       "Has a Laptop                    object\n",
       "Type of Internet Connection     object\n",
       "CC100                           object\n",
       "CC101                           object\n",
       "CC102                           object\n",
       "CS111/IT112                     object\n",
       "English Prof                   float64\n",
       "Reading Compre                 float64\n",
       "Science Process                float64\n",
       "Quantitative                   float64\n",
       "Abstract                       float64\n",
       "CET OAPR                       float64\n",
       "SHS/HS GPA                      object\n",
       "Enrolled in 2nd Year            object\n",
       "dtype: object"
      ]
     },
     "execution_count": 31,
     "metadata": {},
     "output_type": "execute_result"
    }
   ],
   "source": [
    "df.dtypes"
   ]
  },
  {
   "cell_type": "markdown",
   "id": "2fd71b9b",
   "metadata": {},
   "source": [
    "### Handling Missing Value"
   ]
  },
  {
   "cell_type": "code",
   "execution_count": 32,
   "id": "864f6513",
   "metadata": {},
   "outputs": [],
   "source": [
    "df.drop(df[df['CC102'].isin(['UW'])].index,inplace=True)\n",
    "df.drop(df[df['CS111/IT112'].isin(['UW'])].index,inplace=True)"
   ]
  },
  {
   "cell_type": "code",
   "execution_count": 33,
   "id": "d62bd580",
   "metadata": {},
   "outputs": [
    {
     "data": {
      "text/plain": [
       "(424, 18)"
      ]
     },
     "execution_count": 33,
     "metadata": {},
     "output_type": "execute_result"
    }
   ],
   "source": [
    "df.shape"
   ]
  },
  {
   "cell_type": "code",
   "execution_count": 34,
   "id": "0728f074",
   "metadata": {},
   "outputs": [],
   "source": [
    "df['CC100'].replace('INC', '3', inplace=True)\n",
    "df['CC101'].replace('INC', '3', inplace=True)\n",
    "df['CC102'].replace('INC', '3', inplace=True)\n",
    "df['CS111/IT112'].replace('INC', '3', inplace=True)"
   ]
  },
  {
   "cell_type": "code",
   "execution_count": 35,
   "id": "0192bc79",
   "metadata": {},
   "outputs": [],
   "source": [
    "df['SHS/HS GPA'] = pd.to_numeric(df['SHS/HS GPA'])\n",
    "df['Age'] = pd.to_numeric(df['Age'])\n",
    "df['CC100'] = pd.to_numeric(df['CC100'])\n",
    "df['CC101'] = pd.to_numeric(df['CC101'])\n",
    "df['CC102'] = pd.to_numeric(df['CC102'])\n",
    "df['CS111/IT112'] = pd.to_numeric(df['CS111/IT112'])"
   ]
  },
  {
   "cell_type": "code",
   "execution_count": 36,
   "id": "35804d6d",
   "metadata": {},
   "outputs": [
    {
     "data": {
      "text/plain": [
       "Gender                          object\n",
       "Age                              int64\n",
       "SHS Strand                      object\n",
       "Financial Status                object\n",
       "Has a Laptop                    object\n",
       "Type of Internet Connection     object\n",
       "CC100                          float64\n",
       "CC101                          float64\n",
       "CC102                          float64\n",
       "CS111/IT112                    float64\n",
       "English Prof                   float64\n",
       "Reading Compre                 float64\n",
       "Science Process                float64\n",
       "Quantitative                   float64\n",
       "Abstract                       float64\n",
       "CET OAPR                       float64\n",
       "SHS/HS GPA                     float64\n",
       "Enrolled in 2nd Year            object\n",
       "dtype: object"
      ]
     },
     "execution_count": 36,
     "metadata": {},
     "output_type": "execute_result"
    }
   ],
   "source": [
    "df.dtypes"
   ]
  },
  {
   "cell_type": "code",
   "execution_count": 37,
   "id": "9f7628c3",
   "metadata": {
    "scrolled": false
   },
   "outputs": [
    {
     "data": {
      "image/png": "[encoded data removed]",
      "text/plain": [
       "<Figure size 1080x1800 with 24 Axes>"
      ]
     },
     "metadata": {
      "needs_background": "light"
     },
     "output_type": "display_data"
    }
   ],
   "source": [
    "#Plotting numerical data for visualization\n",
    "\n",
    "a = 13  # number of rows\n",
    "b = 2  # number of columns\n",
    "c = 1  # initialize plot counter\n",
    "\n",
    "fig = plt.figure(figsize=(15,25))\n",
    "\n",
    "for i in df.select_dtypes(include=['int64', 'float64']):\n",
    "    plt.subplot(a, b, c)\n",
    "    plt.subplots_adjust(hspace=0.5)\n",
    "    plt.xlabel(i)\n",
    "    sns.histplot(data=df, x=df[i], kde=True)\n",
    "    c = c + 1\n",
    "    \n",
    "    plt.subplot(a, b, c)\n",
    "    plt.subplots_adjust(hspace=0.5)\n",
    "    plt.xlabel(i)\n",
    "    sns.boxplot(x = df[i])\n",
    "    c = c + 1\n",
    "    "
   ]
  },
  {
   "cell_type": "code",
   "execution_count": 38,
   "id": "0abd1e40",
   "metadata": {
    "scrolled": true
   },
   "outputs": [
    {
     "data": {
      "text/plain": [
       "Gender                          0\n",
       "Age                             0\n",
       "SHS Strand                      0\n",
       "Financial Status                0\n",
       "Has a Laptop                    0\n",
       "Type of Internet Connection     0\n",
       "CC100                          22\n",
       "CC101                           9\n",
       "CC102                           5\n",
       "CS111/IT112                     9\n",
       "English Prof                    6\n",
       "Reading Compre                  6\n",
       "Science Process                 6\n",
       "Quantitative                    6\n",
       "Abstract                        6\n",
       "CET OAPR                        6\n",
       "SHS/HS GPA                     68\n",
       "Enrolled in 2nd Year            0\n",
       "dtype: int64"
      ]
     },
     "execution_count": 38,
     "metadata": {},
     "output_type": "execute_result"
    }
   ],
   "source": [
    "df.isnull().sum()"
   ]
  },
  {
   "cell_type": "code",
   "execution_count": 39,
   "id": "45cd8df1",
   "metadata": {},
   "outputs": [],
   "source": [
    "#Handling missing value for numeric data\n",
    "df['CC100'].fillna(df['CC100'].median(),inplace=True)\n",
    "df['CC101'].fillna(df['CC101'].median(),inplace=True)\n",
    "df['CC102'].fillna(df['CC102'].median(),inplace=True)\n",
    "df['CS111/IT112'].fillna(df['CS111/IT112'].median(),inplace=True)\n",
    "df['CET OAPR'].fillna(df['CET OAPR'].median(),inplace=True)\n",
    "df['English Prof'].fillna(df['English Prof'].median(),inplace=True)\n",
    "df['Reading Compre'].fillna(df['Reading Compre'].median(),inplace=True)\n",
    "df['Science Process'].fillna(df['Science Process'].median(),inplace=True)\n",
    "df['Quantitative'].fillna(df['Quantitative'].median(),inplace=True)\n",
    "df['Abstract'].fillna(df['Abstract'].median(),inplace=True)\n",
    "df['SHS/HS GPA'].fillna(df['SHS/HS GPA'].median(),inplace=True)"
   ]
  },
  {
   "cell_type": "code",
   "execution_count": 40,
   "id": "ef579fdf",
   "metadata": {},
   "outputs": [
    {
     "data": {
      "text/plain": [
       "Gender                         0\n",
       "Age                            0\n",
       "SHS Strand                     0\n",
       "Financial Status               0\n",
       "Has a Laptop                   0\n",
       "Type of Internet Connection    0\n",
       "CC100                          0\n",
       "CC101                          0\n",
       "CC102                          0\n",
       "CS111/IT112                    0\n",
       "English Prof                   0\n",
       "Reading Compre                 0\n",
       "Science Process                0\n",
       "Quantitative                   0\n",
       "Abstract                       0\n",
       "CET OAPR                       0\n",
       "SHS/HS GPA                     0\n",
       "Enrolled in 2nd Year           0\n",
       "dtype: int64"
      ]
     },
     "execution_count": 40,
     "metadata": {},
     "output_type": "execute_result"
    }
   ],
   "source": [
    "df.isnull().sum()"
   ]
  },
  {
   "cell_type": "markdown",
   "id": "8aef2e74",
   "metadata": {},
   "source": [
    "## Categorical Encoding"
   ]
  },
  {
   "cell_type": "code",
   "execution_count": 41,
   "id": "dcf782ee",
   "metadata": {},
   "outputs": [],
   "source": [
    "df = pd.get_dummies(df, prefix=\"\", prefix_sep=\"\", columns=['SHS Strand','Gender'])"
   ]
  },
  {
   "cell_type": "code",
   "execution_count": 42,
   "id": "0338d6b0",
   "metadata": {},
   "outputs": [],
   "source": [
    "dict_target_laptop = {'Yes':2, 'Planning to purchase':1, 'No':0,}\n",
    "dict_target_internet = {'Post-paid plan(Unlimited Data Subscription to PLDT, GLOBE, SMART, Sky, etc.)':2, \n",
    "                        'Pre-paid plan(Limited Data Subscription)':1, \n",
    "                        'No internet subscription, including no access to internet connection at all':0}\n",
    "dict_target_fs = {'More than P100,000':5, 'P50,000 to P100,000':4, 'P20,000 to P50,000':3, 'P10,000 to P20,000':2, \n",
    "                  'Below P10,000':1,  'Prefer not to say':0}\n",
    "dict_target_Enrolled = {'No':0, 'Yes':1,}\n",
    "\n",
    "df['Financial Status'] = df['Financial Status'].map(dict_target_fs)\n",
    "df['Has a Laptop'] = df['Has a Laptop'].map(dict_target_laptop)\n",
    "df['Type of Internet Connection'] = df['Type of Internet Connection'].map(dict_target_internet)\n",
    "df['label'] = df['Enrolled in 2nd Year'].map(dict_target_Enrolled)\n"
   ]
  },
  {
   "cell_type": "code",
   "execution_count": 43,
   "id": "a3d4d380",
   "metadata": {},
   "outputs": [],
   "source": [
    "df.drop(columns=['Enrolled in 2nd Year'],inplace=True)"
   ]
  },
  {
   "cell_type": "code",
   "execution_count": 44,
   "id": "93706718",
   "metadata": {},
   "outputs": [
    {
     "data": {
      "text/html": [
       "<div>\n",
       "<style scoped>\n",
       "    .dataframe tbody tr th:only-of-type {\n",
       "        vertical-align: middle;\n",
       "    }\n",
       "\n",
       "    .dataframe tbody tr th {\n",
       "        vertical-align: top;\n",
       "    }\n",
       "\n",
       "    .dataframe thead th {\n",
       "        text-align: right;\n",
       "    }\n",
       "</style>\n",
       "<table border=\"1\" class=\"dataframe\">\n",
       "  <thead>\n",
       "    <tr style=\"text-align: right;\">\n",
       "      <th></th>\n",
       "      <th>Age</th>\n",
       "      <th>Financial Status</th>\n",
       "      <th>Has a Laptop</th>\n",
       "      <th>Type of Internet Connection</th>\n",
       "      <th>CC100</th>\n",
       "      <th>CC101</th>\n",
       "      <th>CC102</th>\n",
       "      <th>CS111/IT112</th>\n",
       "      <th>English Prof</th>\n",
       "      <th>Reading Compre</th>\n",
       "      <th>...</th>\n",
       "      <th>GAS</th>\n",
       "      <th>HUMSS</th>\n",
       "      <th>STEM</th>\n",
       "      <th>Sports Track</th>\n",
       "      <th>TVL-HE</th>\n",
       "      <th>TVL-ICT</th>\n",
       "      <th>Female</th>\n",
       "      <th>Male</th>\n",
       "      <th>Prefer not to say</th>\n",
       "      <th>label</th>\n",
       "    </tr>\n",
       "  </thead>\n",
       "  <tbody>\n",
       "    <tr>\n",
       "      <th>0</th>\n",
       "      <td>22</td>\n",
       "      <td>5</td>\n",
       "      <td>2</td>\n",
       "      <td>2</td>\n",
       "      <td>1.50</td>\n",
       "      <td>2.00</td>\n",
       "      <td>2.00</td>\n",
       "      <td>2.00</td>\n",
       "      <td>41.05</td>\n",
       "      <td>30.03</td>\n",
       "      <td>...</td>\n",
       "      <td>0</td>\n",
       "      <td>0</td>\n",
       "      <td>0</td>\n",
       "      <td>0</td>\n",
       "      <td>0</td>\n",
       "      <td>1</td>\n",
       "      <td>0</td>\n",
       "      <td>1</td>\n",
       "      <td>0</td>\n",
       "      <td>0</td>\n",
       "    </tr>\n",
       "    <tr>\n",
       "      <th>1</th>\n",
       "      <td>24</td>\n",
       "      <td>1</td>\n",
       "      <td>2</td>\n",
       "      <td>1</td>\n",
       "      <td>2.50</td>\n",
       "      <td>3.00</td>\n",
       "      <td>2.00</td>\n",
       "      <td>2.50</td>\n",
       "      <td>61.05</td>\n",
       "      <td>48.40</td>\n",
       "      <td>...</td>\n",
       "      <td>0</td>\n",
       "      <td>0</td>\n",
       "      <td>0</td>\n",
       "      <td>0</td>\n",
       "      <td>0</td>\n",
       "      <td>1</td>\n",
       "      <td>0</td>\n",
       "      <td>1</td>\n",
       "      <td>0</td>\n",
       "      <td>1</td>\n",
       "    </tr>\n",
       "    <tr>\n",
       "      <th>2</th>\n",
       "      <td>21</td>\n",
       "      <td>1</td>\n",
       "      <td>2</td>\n",
       "      <td>2</td>\n",
       "      <td>1.00</td>\n",
       "      <td>1.75</td>\n",
       "      <td>1.75</td>\n",
       "      <td>2.00</td>\n",
       "      <td>49.95</td>\n",
       "      <td>71.99</td>\n",
       "      <td>...</td>\n",
       "      <td>0</td>\n",
       "      <td>0</td>\n",
       "      <td>1</td>\n",
       "      <td>0</td>\n",
       "      <td>0</td>\n",
       "      <td>0</td>\n",
       "      <td>1</td>\n",
       "      <td>0</td>\n",
       "      <td>0</td>\n",
       "      <td>1</td>\n",
       "    </tr>\n",
       "    <tr>\n",
       "      <th>3</th>\n",
       "      <td>22</td>\n",
       "      <td>0</td>\n",
       "      <td>0</td>\n",
       "      <td>2</td>\n",
       "      <td>1.75</td>\n",
       "      <td>1.25</td>\n",
       "      <td>3.00</td>\n",
       "      <td>1.75</td>\n",
       "      <td>89.71</td>\n",
       "      <td>77.12</td>\n",
       "      <td>...</td>\n",
       "      <td>0</td>\n",
       "      <td>0</td>\n",
       "      <td>0</td>\n",
       "      <td>0</td>\n",
       "      <td>0</td>\n",
       "      <td>0</td>\n",
       "      <td>0</td>\n",
       "      <td>1</td>\n",
       "      <td>0</td>\n",
       "      <td>1</td>\n",
       "    </tr>\n",
       "    <tr>\n",
       "      <th>4</th>\n",
       "      <td>23</td>\n",
       "      <td>1</td>\n",
       "      <td>2</td>\n",
       "      <td>2</td>\n",
       "      <td>1.25</td>\n",
       "      <td>1.25</td>\n",
       "      <td>1.75</td>\n",
       "      <td>1.75</td>\n",
       "      <td>95.51</td>\n",
       "      <td>71.99</td>\n",
       "      <td>...</td>\n",
       "      <td>0</td>\n",
       "      <td>0</td>\n",
       "      <td>0</td>\n",
       "      <td>0</td>\n",
       "      <td>0</td>\n",
       "      <td>1</td>\n",
       "      <td>1</td>\n",
       "      <td>0</td>\n",
       "      <td>0</td>\n",
       "      <td>1</td>\n",
       "    </tr>\n",
       "  </tbody>\n",
       "</table>\n",
       "<p>5 rows × 26 columns</p>\n",
       "</div>"
      ],
      "text/plain": [
       "   Age  Financial Status  Has a Laptop  Type of Internet Connection  CC100  \\\n",
       "0   22                 5             2                            2   1.50   \n",
       "1   24                 1             2                            1   2.50   \n",
       "2   21                 1             2                            2   1.00   \n",
       "3   22                 0             0                            2   1.75   \n",
       "4   23                 1             2                            2   1.25   \n",
       "\n",
       "   CC101  CC102  CS111/IT112  English Prof  Reading Compre  ...  GAS  HUMSS  \\\n",
       "0   2.00   2.00         2.00         41.05           30.03  ...    0      0   \n",
       "1   3.00   2.00         2.50         61.05           48.40  ...    0      0   \n",
       "2   1.75   1.75         2.00         49.95           71.99  ...    0      0   \n",
       "3   1.25   3.00         1.75         89.71           77.12  ...    0      0   \n",
       "4   1.25   1.75         1.75         95.51           71.99  ...    0      0   \n",
       "\n",
       "   STEM  Sports Track  TVL-HE  TVL-ICT  Female  Male  Prefer not to say  label  \n",
       "0     0             0       0        1       0     1                  0      0  \n",
       "1     0             0       0        1       0     1                  0      1  \n",
       "2     1             0       0        0       1     0                  0      1  \n",
       "3     0             0       0        0       0     1                  0      1  \n",
       "4     0             0       0        1       1     0                  0      1  \n",
       "\n",
       "[5 rows x 26 columns]"
      ]
     },
     "execution_count": 44,
     "metadata": {},
     "output_type": "execute_result"
    }
   ],
   "source": [
    "df.head()"
   ]
  },
  {
   "cell_type": "code",
   "execution_count": 45,
   "id": "7837af5a",
   "metadata": {},
   "outputs": [
    {
     "data": {
      "text/plain": [
       "(424, 26)"
      ]
     },
     "execution_count": 45,
     "metadata": {},
     "output_type": "execute_result"
    }
   ],
   "source": [
    "df.shape"
   ]
  },
  {
   "cell_type": "markdown",
   "id": "8402a555",
   "metadata": {},
   "source": [
    "#### Plot correlation matrix using Pearson's method"
   ]
  },
  {
   "cell_type": "code",
   "execution_count": 46,
   "id": "c1723910",
   "metadata": {},
   "outputs": [
    {
     "data": {
      "image/png": "[encoded data removed]",
      "text/plain": [
       "<Figure size 576x576 with 2 Axes>"
      ]
     },
     "metadata": {
      "needs_background": "light"
     },
     "output_type": "display_data"
    }
   ],
   "source": [
    "corr1 = df.corr()\n",
    "plt.figure(figsize=(8,8))\n",
    "data = pd.DataFrame(corr1['label'].sort_values(ascending=False))\n",
    "data = data.drop(['label'])\n",
    "sns.heatmap(data, annot=True, cmap='Blues')\n",
    "plt.show()"
   ]
  },
  {
   "cell_type": "markdown",
   "id": "9d5a9a5b",
   "metadata": {},
   "source": [
    "#### Plot correlation matrix using Spearman's method"
   ]
  },
  {
   "cell_type": "code",
   "execution_count": 47,
   "id": "9fd11457",
   "metadata": {},
   "outputs": [
    {
     "data": {
      "image/png": "[encoded data removed]",
      "text/plain": [
       "<Figure size 576x576 with 2 Axes>"
      ]
     },
     "metadata": {
      "needs_background": "light"
     },
     "output_type": "display_data"
    }
   ],
   "source": [
    "corr2 = df.corr(method='spearman')\n",
    "plt.figure(figsize=(8,8))\n",
    "data = pd.DataFrame(corr2['label'].sort_values(ascending=False))\n",
    "data = data.drop(['label'])\n",
    "sns.heatmap(data, annot=True, cmap='Blues')\n",
    "plt.show()"
   ]
  },
  {
   "cell_type": "code",
   "execution_count": 48,
   "id": "1a863366",
   "metadata": {},
   "outputs": [],
   "source": [
    "df.to_csv('cleaned_thesis_datasetv4_rev.csv',index=False)"
   ]
  },
  {
   "cell_type": "code",
   "execution_count": null,
   "id": "a840472e",
   "metadata": {},
   "outputs": [],
   "source": []
  }
 ],
 "metadata": {
  "kernelspec": {
   "display_name": "Python 3",
   "language": "python",
   "name": "python3"
  },
  "language_info": {
   "codemirror_mode": {
    "name": "ipython",
    "version": 3
   },
   "file_extension": ".py",
   "mimetype": "text/x-python",
   "name": "python",
   "nbconvert_exporter": "python",
   "pygments_lexer": "ipython3",
   "version": "3.8.8"
  }
 },
 "nbformat": 4,
 "nbformat_minor": 5
}
