{
 "cells": [
  {
   "cell_type": "code",
   "execution_count": 3,
   "id": "1ce10f34",
   "metadata": {},
   "outputs": [],
   "source": [
    "import pandas as pd\n",
    "import matplotlib.pyplot as plt\n",
    "import seaborn as sns"
   ]
  },
  {
   "cell_type": "code",
   "execution_count": 2,
   "id": "cddc3d44",
   "metadata": {},
   "outputs": [],
   "source": [
    "df = pd.read_csv('Thesis 2 Data Final.csv')"
   ]
  },
  {
   "cell_type": "code",
   "execution_count": 4,
   "id": "1cc2024f",
   "metadata": {},
   "outputs": [
    {
     "data": {
      "text/html": [
       "<div>\n",
       "<style scoped>\n",
       "    .dataframe tbody tr th:only-of-type {\n",
       "        vertical-align: middle;\n",
       "    }\n",
       "\n",
       "    .dataframe tbody tr th {\n",
       "        vertical-align: top;\n",
       "    }\n",
       "\n",
       "    .dataframe thead th {\n",
       "        text-align: right;\n",
       "    }\n",
       "</style>\n",
       "<table border=\"1\" class=\"dataframe\">\n",
       "  <thead>\n",
       "    <tr style=\"text-align: right;\">\n",
       "      <th></th>\n",
       "      <th>Year Started in the Program</th>\n",
       "      <th>Student ID/Number</th>\n",
       "      <th>First Name</th>\n",
       "      <th>Last Name</th>\n",
       "      <th>Gender</th>\n",
       "      <th>Birthday</th>\n",
       "      <th>Age</th>\n",
       "      <th>What track/strand did you take in SHS?</th>\n",
       "      <th>Financial Status</th>\n",
       "      <th>Did you have a computer or laptop before admission to CS/IT?</th>\n",
       "      <th>...</th>\n",
       "      <th>Lab.2</th>\n",
       "      <th>CS111/IT112</th>\n",
       "      <th>Lecture.3</th>\n",
       "      <th>CET OAPR</th>\n",
       "      <th>English Prof</th>\n",
       "      <th>Reading Compre</th>\n",
       "      <th>Science Process</th>\n",
       "      <th>Quantitative</th>\n",
       "      <th>Abstract</th>\n",
       "      <th>SHS/HS GPA</th>\n",
       "    </tr>\n",
       "  </thead>\n",
       "  <tbody>\n",
       "    <tr>\n",
       "      <th>0</th>\n",
       "      <td>2020</td>\n",
       "      <td>2020-01896</td>\n",
       "      <td>Nathalie</td>\n",
       "      <td>Enriquez</td>\n",
       "      <td>Female</td>\n",
       "      <td>05/11/2002</td>\n",
       "      <td>20</td>\n",
       "      <td>HUMSS</td>\n",
       "      <td>P10,000 to P20,000</td>\n",
       "      <td>Yes</td>\n",
       "      <td>...</td>\n",
       "      <td>1:00pm-4:00pm (S)</td>\n",
       "      <td>1.5</td>\n",
       "      <td>11:30am-1:00pm (MTH)</td>\n",
       "      <td>80.63</td>\n",
       "      <td>78.850</td>\n",
       "      <td>92.88</td>\n",
       "      <td>44.12</td>\n",
       "      <td>70.61</td>\n",
       "      <td>79.78</td>\n",
       "      <td>94</td>\n",
       "    </tr>\n",
       "    <tr>\n",
       "      <th>1</th>\n",
       "      <td>2021</td>\n",
       "      <td>2122-10289</td>\n",
       "      <td>Ercheto Jr</td>\n",
       "      <td>Salaza</td>\n",
       "      <td>Male</td>\n",
       "      <td>28/01/2003</td>\n",
       "      <td>19</td>\n",
       "      <td>STEM</td>\n",
       "      <td>P10,000 to P20,000</td>\n",
       "      <td>No</td>\n",
       "      <td>...</td>\n",
       "      <td>10:00am-1:00pm (F)</td>\n",
       "      <td>2.75</td>\n",
       "      <td>3:30pm-5:00pm (TF)</td>\n",
       "      <td>69.19</td>\n",
       "      <td>66.010</td>\n",
       "      <td>71.99</td>\n",
       "      <td>51.68</td>\n",
       "      <td>75.28</td>\n",
       "      <td>53.29</td>\n",
       "      <td>86.5</td>\n",
       "    </tr>\n",
       "    <tr>\n",
       "      <th>2</th>\n",
       "      <td>2020</td>\n",
       "      <td>2020-03622</td>\n",
       "      <td>Lander Matthew</td>\n",
       "      <td>Gucela</td>\n",
       "      <td>Male</td>\n",
       "      <td>06/09/2001</td>\n",
       "      <td>21</td>\n",
       "      <td>STEM</td>\n",
       "      <td>P10,000 to P20,000</td>\n",
       "      <td>Yes</td>\n",
       "      <td>...</td>\n",
       "      <td>01:00PM 04:00PM (T)</td>\n",
       "      <td>1.5</td>\n",
       "      <td>07:00AM-08:30AM (TF)</td>\n",
       "      <td>66.95</td>\n",
       "      <td>66.010</td>\n",
       "      <td>92.88</td>\n",
       "      <td>3.34</td>\n",
       "      <td>84.63</td>\n",
       "      <td>53.29</td>\n",
       "      <td>79.935</td>\n",
       "    </tr>\n",
       "    <tr>\n",
       "      <th>3</th>\n",
       "      <td>2020</td>\n",
       "      <td>2020-01890</td>\n",
       "      <td>Analyn</td>\n",
       "      <td>Decierdo</td>\n",
       "      <td>Female</td>\n",
       "      <td>22/05/2002</td>\n",
       "      <td>20</td>\n",
       "      <td>ABM/BAM</td>\n",
       "      <td>P10,000 to P20,000</td>\n",
       "      <td>Yes</td>\n",
       "      <td>...</td>\n",
       "      <td>01:00PM 04:00PM (F)</td>\n",
       "      <td>1.5</td>\n",
       "      <td>4:00pm-5:30pm (TF)</td>\n",
       "      <td>78.81</td>\n",
       "      <td>72.788</td>\n",
       "      <td>87.40</td>\n",
       "      <td>72.66</td>\n",
       "      <td>53.82</td>\n",
       "      <td>83.75</td>\n",
       "      <td>88</td>\n",
       "    </tr>\n",
       "    <tr>\n",
       "      <th>4</th>\n",
       "      <td>2020</td>\n",
       "      <td>2019-03069</td>\n",
       "      <td>Yuri</td>\n",
       "      <td>Rubio</td>\n",
       "      <td>Male</td>\n",
       "      <td>12/04/2001</td>\n",
       "      <td>21</td>\n",
       "      <td>TVL-ICT</td>\n",
       "      <td>P20,000 to P50,000</td>\n",
       "      <td>Yes</td>\n",
       "      <td>...</td>\n",
       "      <td>01:00PM 04:00PM (T)</td>\n",
       "      <td>1.75</td>\n",
       "      <td>07:00AM-08:30AM (TF)</td>\n",
       "      <td>NaN</td>\n",
       "      <td>NaN</td>\n",
       "      <td>NaN</td>\n",
       "      <td>NaN</td>\n",
       "      <td>NaN</td>\n",
       "      <td>NaN</td>\n",
       "      <td>NaN</td>\n",
       "    </tr>\n",
       "  </tbody>\n",
       "</table>\n",
       "<p>5 rows × 29 columns</p>\n",
       "</div>"
      ],
      "text/plain": [
       "   Year Started in the Program Student ID/Number      First Name Last Name  \\\n",
       "0                         2020        2020-01896        Nathalie  Enriquez   \n",
       "1                         2021        2122-10289      Ercheto Jr    Salaza   \n",
       "2                         2020        2020-03622  Lander Matthew    Gucela   \n",
       "3                         2020        2020-01890          Analyn  Decierdo   \n",
       "4                         2020        2019-03069           Yuri     Rubio    \n",
       "\n",
       "   Gender    Birthday Age What track/strand did you take in SHS?  \\\n",
       "0  Female  05/11/2002  20                                  HUMSS   \n",
       "1    Male  28/01/2003  19                                   STEM   \n",
       "2    Male  06/09/2001  21                                   STEM   \n",
       "3  Female  22/05/2002  20                                ABM/BAM   \n",
       "4    Male  12/04/2001  21                                TVL-ICT   \n",
       "\n",
       "     Financial Status  \\\n",
       "0  P10,000 to P20,000   \n",
       "1  P10,000 to P20,000   \n",
       "2  P10,000 to P20,000   \n",
       "3  P10,000 to P20,000   \n",
       "4  P20,000 to P50,000   \n",
       "\n",
       "  Did you have a computer or laptop before admission to CS/IT?  ...  \\\n",
       "0                                                Yes            ...   \n",
       "1                                                 No            ...   \n",
       "2                                                Yes            ...   \n",
       "3                                                Yes            ...   \n",
       "4                                                Yes            ...   \n",
       "\n",
       "                 Lab.2 CS111/IT112             Lecture.3 CET OAPR  \\\n",
       "0    1:00pm-4:00pm (S)         1.5  11:30am-1:00pm (MTH)    80.63   \n",
       "1   10:00am-1:00pm (F)        2.75    3:30pm-5:00pm (TF)    69.19   \n",
       "2  01:00PM 04:00PM (T)         1.5  07:00AM-08:30AM (TF)    66.95   \n",
       "3  01:00PM 04:00PM (F)         1.5    4:00pm-5:30pm (TF)    78.81   \n",
       "4  01:00PM 04:00PM (T)        1.75  07:00AM-08:30AM (TF)      NaN   \n",
       "\n",
       "  English Prof Reading Compre Science Process Quantitative Abstract SHS/HS GPA  \n",
       "0       78.850          92.88           44.12        70.61    79.78         94  \n",
       "1       66.010          71.99           51.68        75.28    53.29       86.5  \n",
       "2       66.010          92.88            3.34        84.63    53.29     79.935  \n",
       "3       72.788          87.40           72.66        53.82    83.75         88  \n",
       "4          NaN            NaN             NaN          NaN      NaN        NaN  \n",
       "\n",
       "[5 rows x 29 columns]"
      ]
     },
     "execution_count": 4,
     "metadata": {},
     "output_type": "execute_result"
    }
   ],
   "source": [
    "df.head()"
   ]
  },
  {
   "cell_type": "code",
   "execution_count": 5,
   "id": "c352ad04",
   "metadata": {},
   "outputs": [
    {
     "data": {
      "text/plain": [
       "Year Started in the Program                                       int64\n",
       "Student ID/Number                                                object\n",
       "First Name                                                       object\n",
       "Last Name                                                        object\n",
       "Gender                                                           object\n",
       "Birthday                                                         object\n",
       "Age                                                              object\n",
       "What track/strand did you take in SHS?                           object\n",
       "Financial Status                                                 object\n",
       "Did you have a computer or laptop before admission to CS/IT?     object\n",
       "Type of Internet Connection                                      object\n",
       "CC100                                                            object\n",
       "Lecture                                                          object\n",
       "Lab                                                              object\n",
       "CC101                                                            object\n",
       "Lecture.1                                                        object\n",
       "Lab.1                                                            object\n",
       "CC102                                                            object\n",
       "Lecture.2                                                        object\n",
       "Lab.2                                                            object\n",
       "CS111/IT112                                                      object\n",
       "Lecture.3                                                        object\n",
       "CET OAPR                                                        float64\n",
       "English Prof                                                    float64\n",
       "Reading Compre                                                  float64\n",
       "Science Process                                                 float64\n",
       "Quantitative                                                    float64\n",
       "Abstract                                                        float64\n",
       "SHS/HS GPA                                                       object\n",
       "dtype: object"
      ]
     },
     "execution_count": 5,
     "metadata": {},
     "output_type": "execute_result"
    }
   ],
   "source": [
    "df.dtypes"
   ]
  },
  {
   "cell_type": "code",
   "execution_count": 7,
   "id": "6d5edb2f",
   "metadata": {},
   "outputs": [
    {
     "data": {
      "text/plain": [
       "Index(['Year Started in the Program', 'Student ID/Number', 'First Name',\n",
       "       'Last Name', 'Gender', 'Birthday', 'Age',\n",
       "       'What track/strand did you take in SHS?', 'Financial Status',\n",
       "       'Did you have a computer or laptop before admission to CS/IT?',\n",
       "       'Type of Internet Connection', 'CC100', 'Lecture', 'Lab', 'CC101',\n",
       "       'Lecture.1', 'Lab.1', 'CC102', 'Lecture.2', 'Lab.2', 'CS111/IT112',\n",
       "       'Lecture.3', 'CET OAPR', 'English Prof', 'Reading Compre',\n",
       "       'Science Process', 'Quantitative', 'Abstract', 'SHS/HS GPA'],\n",
       "      dtype='object')"
      ]
     },
     "execution_count": 7,
     "metadata": {},
     "output_type": "execute_result"
    }
   ],
   "source": [
    "df.columns"
   ]
  },
  {
   "cell_type": "code",
   "execution_count": 10,
   "id": "ab3932b4",
   "metadata": {},
   "outputs": [],
   "source": [
    "retain = df.columns.difference(\n",
    "        ['What track/strand did you take in SHS?', 'Financial Status', 'Did you have a computer or laptop before admission to CS/IT?', \n",
    "        'Type of Internet Connection', 'CC100', 'CC101', 'CC102', 'CS111/IT112', 'CET OAPR', 'English Prof', 'Reading Compre',\n",
    "        'Science Process', 'Quantitative', 'Abstract', 'SHS/HS GPA'])"
   ]
  },
  {
   "cell_type": "code",
   "execution_count": 11,
   "id": "4881841a",
   "metadata": {},
   "outputs": [],
   "source": [
    "df.drop(retain,axis=1,inplace=True)"
   ]
  },
  {
   "cell_type": "code",
   "execution_count": 12,
   "id": "cd46c409",
   "metadata": {
    "scrolled": true
   },
   "outputs": [
    {
     "data": {
      "text/plain": [
       "Index(['What track/strand did you take in SHS?', 'Financial Status',\n",
       "       'Did you have a computer or laptop before admission to CS/IT?',\n",
       "       'Type of Internet Connection', 'CC100', 'CC101', 'CC102', 'CS111/IT112',\n",
       "       'CET OAPR', 'English Prof', 'Reading Compre', 'Science Process',\n",
       "       'Quantitative', 'Abstract', 'SHS/HS GPA'],\n",
       "      dtype='object')"
      ]
     },
     "execution_count": 12,
     "metadata": {},
     "output_type": "execute_result"
    }
   ],
   "source": [
    "df.columns"
   ]
  },
  {
   "cell_type": "code",
   "execution_count": 25,
   "id": "331839d1",
   "metadata": {},
   "outputs": [],
   "source": [
    "df.rename(columns={'What track/strand did you take in SHS?':'SHS Strand', \n",
    "                   'Did you have a computer or laptop before admission to CS/IT?':'Own a Laptop'}, inplace=True)"
   ]
  },
  {
   "cell_type": "code",
   "execution_count": 27,
   "id": "3057e380",
   "metadata": {},
   "outputs": [
    {
     "data": {
      "text/plain": [
       "SHS Strand                      object\n",
       "Financial Status                object\n",
       "Own a Laptop                    object\n",
       "Type of Internet Connection     object\n",
       "CC100                           object\n",
       "CC101                           object\n",
       "CC102                           object\n",
       "CS111/IT112                     object\n",
       "CET OAPR                       float64\n",
       "English Prof                   float64\n",
       "Reading Compre                 float64\n",
       "Science Process                float64\n",
       "Quantitative                   float64\n",
       "Abstract                       float64\n",
       "SHS/HS GPA                      object\n",
       "dtype: object"
      ]
     },
     "execution_count": 27,
     "metadata": {},
     "output_type": "execute_result"
    }
   ],
   "source": [
    "df.dtypes"
   ]
  },
  {
   "cell_type": "code",
   "execution_count": 2,
   "id": "d931b830",
   "metadata": {},
   "outputs": [
    {
     "ename": "NameError",
     "evalue": "name 'df' is not defined",
     "output_type": "error",
     "traceback": [
      "\u001b[1;31m---------------------------------------------------------------------------\u001b[0m",
      "\u001b[1;31mNameError\u001b[0m                                 Traceback (most recent call last)",
      "\u001b[1;32m<ipython-input-2-746daadf66ec>\u001b[0m in \u001b[0;36m<module>\u001b[1;34m\u001b[0m\n\u001b[1;32m----> 1\u001b[1;33m \u001b[0mdf\u001b[0m\u001b[1;33m[\u001b[0m\u001b[1;34m'SHS Strand'\u001b[0m\u001b[1;33m]\u001b[0m\u001b[1;33m.\u001b[0m\u001b[0munique\u001b[0m\u001b[1;33m(\u001b[0m\u001b[1;33m)\u001b[0m\u001b[1;33m\u001b[0m\u001b[1;33m\u001b[0m\u001b[0m\n\u001b[0m",
      "\u001b[1;31mNameError\u001b[0m: name 'df' is not defined"
     ]
    }
   ],
   "source": [
    "df['SHS Strand'].value_counts()"
   ]
  },
  {
   "cell_type": "code",
   "execution_count": 1,
   "id": "bb253e3a",
   "metadata": {},
   "outputs": [
    {
     "ename": "NameError",
     "evalue": "name 'df' is not defined",
     "output_type": "error",
     "traceback": [
      "\u001b[1;31m---------------------------------------------------------------------------\u001b[0m",
      "\u001b[1;31mNameError\u001b[0m                                 Traceback (most recent call last)",
      "\u001b[1;32m<ipython-input-1-dd92ae16c730>\u001b[0m in \u001b[0;36m<module>\u001b[1;34m\u001b[0m\n\u001b[1;32m----> 1\u001b[1;33m \u001b[0mdf\u001b[0m\u001b[1;33m[\u001b[0m\u001b[1;34m'Financial Status'\u001b[0m\u001b[1;33m]\u001b[0m\u001b[1;33m.\u001b[0m\u001b[0munique\u001b[0m\u001b[1;33m(\u001b[0m\u001b[1;33m)\u001b[0m\u001b[1;33m\u001b[0m\u001b[1;33m\u001b[0m\u001b[0m\n\u001b[0m",
      "\u001b[1;31mNameError\u001b[0m: name 'df' is not defined"
     ]
    }
   ],
   "source": [
    "df['Financial Status'].value_counts()"
   ]
  },
  {
   "cell_type": "code",
   "execution_count": 35,
   "id": "51d56de7",
   "metadata": {},
   "outputs": [
    {
     "data": {
      "text/plain": [
       "Yes                     278\n",
       "No                      119\n",
       "Planning to purchase     57\n",
       "Name: Own a Laptop, dtype: int64"
      ]
     },
     "execution_count": 35,
     "metadata": {},
     "output_type": "execute_result"
    }
   ],
   "source": [
    "df['Own a Laptop'].value_counts()"
   ]
  },
  {
   "cell_type": "code",
   "execution_count": 37,
   "id": "5ebcac79",
   "metadata": {},
   "outputs": [
    {
     "data": {
      "text/plain": [
       "Post-paid plan(Unlimited Data Subscription to PLDT, GLOBE, SMART, Sky, etc.)    233\n",
       "Pre-paid plan(Limited Data Subscription)                                        205\n",
       "No internet subscription, including no access to internet connection at all      16\n",
       "Name: Type of Internet Connection, dtype: int64"
      ]
     },
     "execution_count": 37,
     "metadata": {},
     "output_type": "execute_result"
    }
   ],
   "source": [
    "df['Type of Internet Connection'].value_counts()"
   ]
  },
  {
   "cell_type": "code",
   "execution_count": 38,
   "id": "20c0d343",
   "metadata": {},
   "outputs": [
    {
     "data": {
      "text/plain": [
       "1.5     89\n",
       "1.75    82\n",
       "1.25    63\n",
       "1       59\n",
       "2       51\n",
       "2.25    25\n",
       "2.5     20\n",
       "3       16\n",
       "2.75    13\n",
       "INC     10\n",
       "Name: CC100, dtype: int64"
      ]
     },
     "execution_count": 38,
     "metadata": {},
     "output_type": "execute_result"
    }
   ],
   "source": [
    "df['CC100'].value_counts()"
   ]
  },
  {
   "cell_type": "code",
   "execution_count": 39,
   "id": "e37457c0",
   "metadata": {},
   "outputs": [
    {
     "data": {
      "text/plain": [
       "1.75    134\n",
       "2.25     53\n",
       "2.5      51\n",
       "2        48\n",
       "1.5      45\n",
       "3        44\n",
       "2.75     35\n",
       "1.25     20\n",
       "INC      12\n",
       "5         2\n",
       "1         1\n",
       "Name: CC101, dtype: int64"
      ]
     },
     "execution_count": 39,
     "metadata": {},
     "output_type": "execute_result"
    }
   ],
   "source": [
    "df['CC101'].value_counts()"
   ]
  },
  {
   "cell_type": "code",
   "execution_count": 40,
   "id": "4dd2c79a",
   "metadata": {},
   "outputs": [
    {
     "data": {
      "text/plain": [
       "1.75    103\n",
       "2        84\n",
       "1.5      77\n",
       "2.25     48\n",
       "3        35\n",
       "1.25     29\n",
       "2.5      26\n",
       "2.75     22\n",
       "INC      17\n",
       "1         4\n",
       "UW        3\n",
       "Name: CC102, dtype: int64"
      ]
     },
     "execution_count": 40,
     "metadata": {},
     "output_type": "execute_result"
    }
   ],
   "source": [
    "df['CC102'].value_counts()"
   ]
  },
  {
   "cell_type": "code",
   "execution_count": 41,
   "id": "70646cb0",
   "metadata": {},
   "outputs": [
    {
     "data": {
      "text/plain": [
       "2       90\n",
       "1.75    75\n",
       "2.25    70\n",
       "1.5     56\n",
       "2.5     48\n",
       "2.75    33\n",
       "1.25    29\n",
       "3       18\n",
       "INC     16\n",
       "5        4\n",
       "1        2\n",
       "UW       1\n",
       "Name: CS111/IT112, dtype: int64"
      ]
     },
     "execution_count": 41,
     "metadata": {},
     "output_type": "execute_result"
    }
   ],
   "source": [
    "df['CS111/IT112'].value_counts()"
   ]
  },
  {
   "cell_type": "code",
   "execution_count": 44,
   "id": "b8e90ab6",
   "metadata": {},
   "outputs": [
    {
     "data": {
      "text/plain": [
       "SHS Strand                       0\n",
       "Financial Status                 1\n",
       "Own a Laptop                     0\n",
       "Type of Internet Connection      0\n",
       "CC100                           26\n",
       "CC101                            9\n",
       "CC102                            6\n",
       "CS111/IT112                     12\n",
       "CET OAPR                       115\n",
       "English Prof                    60\n",
       "Reading Compre                  60\n",
       "Science Process                 60\n",
       "Quantitative                    60\n",
       "Abstract                        60\n",
       "SHS/HS GPA                      69\n",
       "dtype: int64"
      ]
     },
     "execution_count": 44,
     "metadata": {},
     "output_type": "execute_result"
    }
   ],
   "source": [
    "df.isna().sum()"
   ]
  },
  {
   "cell_type": "code",
   "execution_count": 45,
   "id": "f46bb62f",
   "metadata": {},
   "outputs": [
    {
     "data": {
      "text/plain": [
       "array([80.63, 69.19, 66.95, 78.81,   nan, 64.72, 92.9 , 88.22, 93.85,\n",
       "       82.81, 84.88, 74.25, 61.37, 75.16, 68.07, 91.08, 77.9 , 60.09,\n",
       "       72.43, 73.34, 81.43, 93.22, 76.98, 87.64, 97.09, 54.31, 65.83,\n",
       "       79.72, 91.56, 83.5 , 57.2 , 71.42, 94.79, 84.19, 97.27, 70.3 ,\n",
       "       90.13, 94.48, 92.51, 90.6 , 92.03, 96.72, 86.95, 86.26, 63.6 ,\n",
       "       76.07, 96.9 , 93.53, 85.57, 89.17, 97.02, 82.12, 62.48, 95.1 ,\n",
       "       97.46, 95.98, 99.86, 89.65, 68.7 , 63.9 , 99.23, 61.47, 88.7 ,\n",
       "       96.17, 58.64, 60.16, 98.31, 87.54, 95.73, 92.12])"
      ]
     },
     "execution_count": 45,
     "metadata": {},
     "output_type": "execute_result"
    }
   ],
   "source": [
    "df['CET OAPR'].unique()"
   ]
  },
  {
   "cell_type": "code",
   "execution_count": 46,
   "id": "296dd208",
   "metadata": {},
   "outputs": [
    {
     "data": {
      "text/plain": [
       "array([78.85 , 66.01 , 72.788,    nan, 70.75 , 95.51 , 80.58 , 76.83 ,\n",
       "       91.83 , 86.35 , 88.66 , 55.84 , 83.47 , 61.05 , 84.91 , 72.78 ,\n",
       "       63.53 , 52.9  , 89.71 , 93.41 , 92.71 , 99.64 , 41.05 , 49.95 ,\n",
       "       68.5  , 82.02 , 94.81 , 58.56 , 47.   , 98.41 , 34.94 , 96.08 ,\n",
       "       90.77 , 87.6  , 94.11 , 98.9  , 98.65 , 99.14 , 74.8  , 44.05 ,\n",
       "       97.26 , 96.52 , 97.39 , 99.85 , 47.98 , 98.17 , 52.98 , 97.83 ,\n",
       "       96.95 , 96.63 , 37.99 , 31.88 , 92.02 ])"
      ]
     },
     "execution_count": 46,
     "metadata": {},
     "output_type": "execute_result"
    }
   ],
   "source": [
    "df['English Prof'].unique()"
   ]
  },
  {
   "cell_type": "code",
   "execution_count": 47,
   "id": "18a20cb1",
   "metadata": {},
   "outputs": [
    {
     "data": {
      "text/plain": [
       "array([92.88, 71.99, 87.4 ,   nan, 66.85, 96.76, 90.94, 99.7 , 42.05,\n",
       "       48.4 , 54.75, 77.12, 30.03, 82.26, 98.7 , 90.84, 99.77, 94.82,\n",
       "       25.06, 48.49, 35.7 , 61.11, 92.  , 87.7 , 74.21, 11.85, 98.79,\n",
       "       68.98, 94.84])"
      ]
     },
     "execution_count": 47,
     "metadata": {},
     "output_type": "execute_result"
    }
   ],
   "source": [
    "df['Reading Compre'].unique()"
   ]
  },
  {
   "cell_type": "code",
   "execution_count": 48,
   "id": "00de2332",
   "metadata": {},
   "outputs": [
    {
     "data": {
      "text/plain": [
       "array([44.12, 51.68,  3.34, 72.66,   nan, 76.79, 80.93, 94.84, 59.25,\n",
       "       89.19, 91.97, 85.06, 93.41, 24.36, 66.81, 98.84, 36.55, 96.28,\n",
       "       29.96, 91.9 , 18.75, 87.25, 97.72, 98.58, 99.87, 99.14, 48.96,\n",
       "       62.94, 98.86, 91.68, 98.19, 13.15, 76.69])"
      ]
     },
     "execution_count": 48,
     "metadata": {},
     "output_type": "execute_result"
    }
   ],
   "source": [
    "df['Science Process'].unique()"
   ]
  },
  {
   "cell_type": "code",
   "execution_count": 53,
   "id": "6670f328",
   "metadata": {},
   "outputs": [
    {
     "data": {
      "text/plain": [
       "array([7.061e+01, 7.528e+01, 8.463e+01, 5.382e+01,       nan, 4.418e+01,\n",
       "       6.345e+01, 8.931e+01, 9.338e+01, 1.045e+01, 7.996e+01, 9.571e+01,\n",
       "       2.491e+01, 3.454e+01, 9.222e+01, 9.829e+01, 9.863e+01, 1.816e+01,\n",
       "       9.454e+01, 9.762e+01, 9.497e+01, 9.687e+01, 4.480e+01, 9.934e+01,\n",
       "       1.431e+01, 9.598e+01, 7.518e+01, 9.330e+01, 9.897e+01, 5.246e+01,\n",
       "       7.559e+01, 6.590e+00, 7.628e+01, 9.795e+01, 9.871e+01, 8.000e-02])"
      ]
     },
     "execution_count": 53,
     "metadata": {},
     "output_type": "execute_result"
    }
   ],
   "source": [
    "df['Quantitative'].unique()"
   ]
  },
  {
   "cell_type": "code",
   "execution_count": 56,
   "id": "9200d1a1",
   "metadata": {},
   "outputs": [
    {
     "data": {
      "text/plain": [
       "83      4.24\n",
       "43     13.13\n",
       "56     15.15\n",
       "213    20.60\n",
       "117    26.06\n",
       "356    26.07\n",
       "18     33.69\n",
       "5      43.49\n",
       "1      53.29\n",
       "91     54.29\n",
       "16     63.10\n",
       "20     64.10\n",
       "13     72.90\n",
       "0      79.78\n",
       "394    79.80\n",
       "279    81.70\n",
       "3      83.75\n",
       "176    87.45\n",
       "10     87.72\n",
       "55     87.96\n",
       "113    91.54\n",
       "8      91.68\n",
       "34     95.65\n",
       "100    96.65\n",
       "42     97.87\n",
       "124    98.34\n",
       "243    98.81\n",
       "116    99.28\n",
       "4        NaN\n",
       "Name: Abstract, dtype: float64"
      ]
     },
     "execution_count": 56,
     "metadata": {},
     "output_type": "execute_result"
    }
   ],
   "source": [
    "df['Abstract'].drop_duplicates().sort_values()"
   ]
  },
  {
   "cell_type": "code",
   "execution_count": 57,
   "id": "63335ce1",
   "metadata": {},
   "outputs": [
    {
     "data": {
      "text/plain": [
       "array(['94', '86.5', '79.935', '88', nan, '92.5', '86', '93.5', '90.88',\n",
       "       '91', '92', '95', '91.5', 'Transferee', '92.28', '85', 'Shiftee',\n",
       "       '89', '90.5', '91.4', '89.5', '84', '87.889', '87.5', '85.5', '93',\n",
       "       '82.5', '95.21', '82.665', '87.445', '84.5', '94.5', '88.5',\n",
       "       '84.4', '91.93', '90', '87.2', '81.5', '81', '87', '82.1705',\n",
       "       '87.945', '89.23', '90.44', '84.56', '83.72', '94.6', '86.89',\n",
       "       '89.6', '92.7', '84.34', '87.79', '94.06', '83', '82.42', '89.21',\n",
       "       '93.14', '91.06', '87.905', '83.5', '92.69', '88.35', '93.25',\n",
       "       '90.75', '77', '85.785', '85.18', '87.155', '89.33', '91.22',\n",
       "       '90.56', '82', '92.785', '85.515', '91.165', '96.19', '88.8',\n",
       "       '83.025', '88.75', '91.58', '90.1', '83.655', '92.25', '90.97',\n",
       "       '86.35', '80', '86.373', '87.97', '92.36', '94.16', '92.55',\n",
       "       '89.465', '87.18', '93.15', '87.06', '90.25', '89.76', '83.98',\n",
       "       '90.66', '87.25', '86.87', '85.07', '83.475', '83.78', '89.26',\n",
       "       '87.65', '91.8', '95.5', '90.565', '97', '90.59', '87.44', '86.74',\n",
       "       '86.13', '87.24', '88.94', '93.53', '82.69', '85.38', '85.12',\n",
       "       '89.665', '91.1', '80.63', '87.855', '90.82', '86.58', '87.83'],\n",
       "      dtype=object)"
      ]
     },
     "execution_count": 57,
     "metadata": {},
     "output_type": "execute_result"
    }
   ],
   "source": [
    "df['SHS/HS GPA'].unique()"
   ]
  },
  {
   "cell_type": "code",
   "execution_count": null,
   "id": "4013acc9",
   "metadata": {},
   "outputs": [],
   "source": []
  },
  {
   "cell_type": "code",
   "execution_count": null,
   "id": "88d4f8b2",
   "metadata": {},
   "outputs": [],
   "source": []
  },
  {
   "cell_type": "code",
   "execution_count": 42,
   "id": "7d18c9f7",
   "metadata": {},
   "outputs": [],
   "source": [
    "num_col = df.select_dtypes(include=['float64','int64'])"
   ]
  },
  {
   "cell_type": "code",
   "execution_count": 43,
   "id": "9e0a9fa0",
   "metadata": {},
   "outputs": [
    {
     "name": "stderr",
     "output_type": "stream",
     "text": [
      "C:\\ProgramData\\Anaconda3\\lib\\site-packages\\seaborn\\distributions.py:2557: FutureWarning: `distplot` is a deprecated function and will be removed in a future version. Please adapt your code to use either `displot` (a figure-level function with similar flexibility) or `histplot` (an axes-level function for histograms).\n",
      "  warnings.warn(msg, FutureWarning)\n",
      "C:\\ProgramData\\Anaconda3\\lib\\site-packages\\seaborn\\distributions.py:2557: FutureWarning: `distplot` is a deprecated function and will be removed in a future version. Please adapt your code to use either `displot` (a figure-level function with similar flexibility) or `histplot` (an axes-level function for histograms).\n",
      "  warnings.warn(msg, FutureWarning)\n",
      "C:\\ProgramData\\Anaconda3\\lib\\site-packages\\seaborn\\distributions.py:2557: FutureWarning: `distplot` is a deprecated function and will be removed in a future version. Please adapt your code to use either `displot` (a figure-level function with similar flexibility) or `histplot` (an axes-level function for histograms).\n",
      "  warnings.warn(msg, FutureWarning)\n",
      "C:\\ProgramData\\Anaconda3\\lib\\site-packages\\seaborn\\distributions.py:2557: FutureWarning: `distplot` is a deprecated function and will be removed in a future version. Please adapt your code to use either `displot` (a figure-level function with similar flexibility) or `histplot` (an axes-level function for histograms).\n",
      "  warnings.warn(msg, FutureWarning)\n",
      "C:\\ProgramData\\Anaconda3\\lib\\site-packages\\seaborn\\distributions.py:2557: FutureWarning: `distplot` is a deprecated function and will be removed in a future version. Please adapt your code to use either `displot` (a figure-level function with similar flexibility) or `histplot` (an axes-level function for histograms).\n",
      "  warnings.warn(msg, FutureWarning)\n",
      "C:\\ProgramData\\Anaconda3\\lib\\site-packages\\seaborn\\distributions.py:2557: FutureWarning: `distplot` is a deprecated function and will be removed in a future version. Please adapt your code to use either `displot` (a figure-level function with similar flexibility) or `histplot` (an axes-level function for histograms).\n",
      "  warnings.warn(msg, FutureWarning)\n"
     ]
    },
    {
     "data": {
      "image/png": "[encoded data removed]",
      "text/plain": [
       "<Figure size 1080x1440 with 12 Axes>"
      ]
     },
     "metadata": {
      "needs_background": "light"
     },
     "output_type": "display_data"
    }
   ],
   "source": [
    "#Plotting numerical data for visualization\n",
    "\n",
    "a = 6  # number of rows\n",
    "b = 2  # number of columns\n",
    "c = 1  # initialize plot counter\n",
    "\n",
    "fig = plt.figure(figsize=(15,20))\n",
    "\n",
    "for i in num_col:\n",
    "    plt.subplot(a, b, c)\n",
    "    plt.subplots_adjust(hspace=0.5)\n",
    "    plt.xlabel(i)\n",
    "    sns.distplot(df[i])\n",
    "    c = c + 1\n",
    "    \n",
    "    plt.subplot(a, b, c)\n",
    "    plt.subplots_adjust(hspace=0.5)\n",
    "    plt.xlabel(i)\n",
    "    plt.boxplot(x = df[i])\n",
    "    c = c + 1\n",
    "    "
   ]
  },
  {
   "cell_type": "code",
   "execution_count": null,
   "id": "f7ec3cf6",
   "metadata": {},
   "outputs": [],
   "source": []
  }
 ],
 "metadata": {
  "kernelspec": {
   "display_name": "Python 3",
   "language": "python",
   "name": "python3"
  },
  "language_info": {
   "codemirror_mode": {
    "name": "ipython",
    "version": 3
   },
   "file_extension": ".py",
   "mimetype": "text/x-python",
   "name": "python",
   "nbconvert_exporter": "python",
   "pygments_lexer": "ipython3",
   "version": "3.8.8"
  }
 },
 "nbformat": 4,
 "nbformat_minor": 5
}
